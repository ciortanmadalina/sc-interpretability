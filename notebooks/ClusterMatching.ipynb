{
 "cells": [
  {
   "cell_type": "code",
   "execution_count": 1,
   "id": "e14621e8",
   "metadata": {},
   "outputs": [],
   "source": [
    "import numpy as np\n",
    "from itertools import permutations, product\n",
    "from sklearn.metrics import accuracy_score"
   ]
  },
  {
   "cell_type": "code",
   "execution_count": 2,
   "id": "284254be",
   "metadata": {},
   "outputs": [],
   "source": [
    "# def remap_labels(pred_labels, true_labels):\n",
    "#     \"\"\"Rename prediction labels (clustered output) to best match true labels.\"\"\"\n",
    "\n",
    "#     pred_labels, true_labels = np.array(pred_labels), np.array(true_labels)\n",
    "#     assert pred_labels.ndim == 1 == true_labels.ndim\n",
    "#     assert len(pred_labels) == len(true_labels)\n",
    "#     cluster_names = np.unique(pred_labels)\n",
    "#     accuracy = 0\n",
    "\n",
    "#     perms = np.array(list(permutations(np.unique(true_labels))))\n",
    "\n",
    "#     remapped_labels = true_labels\n",
    "#     for perm in perms:\n",
    "#         flipped_labels = np.zeros(len(true_labels))\n",
    "#         for label_index, label in enumerate(cluster_names):\n",
    "#             flipped_labels[pred_labels == label] = perm[label_index]\n",
    "\n",
    "#         testAcc = np.sum(flipped_labels == true_labels) / len(true_labels)\n",
    "#         if testAcc > accuracy:\n",
    "#             accuracy = testAcc\n",
    "#             remapped_labels = flipped_labels\n",
    "\n",
    "#     return accuracy, remapped_labels"
   ]
  },
  {
   "cell_type": "code",
   "execution_count": 6,
   "id": "c263e0b6",
   "metadata": {},
   "outputs": [
    {
     "data": {
      "text/plain": [
       "(array([1, 1, 1, 1, 2, 2, 0, 0, 0]),\n",
       " {0: 2, 1: 1, 2: 0, 3: 0, 4: 0},\n",
       " 0.7777777777777778)"
      ]
     },
     "execution_count": 6,
     "metadata": {},
     "output_type": "execute_result"
    }
   ],
   "source": [
    "def source_to_target_labels(source_labels, target_labels):\n",
    "    \"\"\"Rename prediction labels (clustered output) to best match true labels.\"\"\"\n",
    "\n",
    "    source_labels, target_labels = np.array(source_labels), np.array(target_labels)\n",
    "    assert source_labels.ndim == 1 == target_labels.ndim\n",
    "#     assert len(source_labels) == len(target_labels)\n",
    "    unique_source_labels = np.unique(source_labels)\n",
    "    accuracy = -1\n",
    "    if len(np.unique(source_labels)) != len(np.unique(target_labels)):\n",
    "        perms = product(np.unique(target_labels), repeat = len(unique_source_labels))\n",
    "    else:\n",
    "        perms = np.array(list(permutations(unique_source_labels)))\n",
    "    best_perm = None\n",
    "    remapped_labels = target_labels\n",
    "    for perm in perms:\n",
    "        cmap = dict(zip(unique_source_labels, perm))\n",
    "        f = lambda x: cmap[x]\n",
    "        \n",
    "        flipped_labels = np.vectorize(f)(source_labels)\n",
    "        testAcc = accuracy_score(target_labels, flipped_labels)\n",
    "        if testAcc > accuracy:\n",
    "            accuracy = testAcc\n",
    "            remapped_labels = flipped_labels\n",
    "            best_perm = perm\n",
    "\n",
    "    source_to_target = dict(zip(unique_source_labels, best_perm))\n",
    "    return remapped_labels, source_to_target, accuracy\n",
    "\n",
    "\n",
    "\n",
    "prediction   = [1, 1, 1, 1, 0, 0, 2, 3, 4]\n",
    "ground_truth = [0, 1, 1, 2, 2, 2, 0, 0, 0]\n",
    "\n",
    "source_to_target_labels(prediction, ground_truth)"
   ]
  },
  {
   "cell_type": "code",
   "execution_count": null,
   "id": "13c6beae",
   "metadata": {},
   "outputs": [],
   "source": [
    "%debug"
   ]
  },
  {
   "cell_type": "code",
   "execution_count": null,
   "id": "ea03322e",
   "metadata": {},
   "outputs": [],
   "source": [
    "unique_target_labels = np.unique(prediction)"
   ]
  },
  {
   "cell_type": "code",
   "execution_count": null,
   "id": "27cf1b0e",
   "metadata": {},
   "outputs": [],
   "source": [
    "list(product(['1','2','3'],repeat = 5))"
   ]
  },
  {
   "cell_type": "code",
   "execution_count": null,
   "id": "6e449466",
   "metadata": {},
   "outputs": [],
   "source": [
    "np.array(list(permutations(unique_target_labels)))"
   ]
  },
  {
   "cell_type": "code",
   "execution_count": null,
   "id": "1df1c033",
   "metadata": {},
   "outputs": [],
   "source": []
  }
 ],
 "metadata": {
  "kernelspec": {
   "display_name": "Python 3",
   "language": "python",
   "name": "python3"
  },
  "language_info": {
   "codemirror_mode": {
    "name": "ipython",
    "version": 3
   },
   "file_extension": ".py",
   "mimetype": "text/x-python",
   "name": "python",
   "nbconvert_exporter": "python",
   "pygments_lexer": "ipython3",
   "version": "3.7.4"
  }
 },
 "nbformat": 4,
 "nbformat_minor": 5
}
